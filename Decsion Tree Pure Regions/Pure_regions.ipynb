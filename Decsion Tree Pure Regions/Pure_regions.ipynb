{
 "cells": [
  {
   "cell_type": "code",
   "execution_count": 24,
   "metadata": {
    "collapsed": true
   },
   "outputs": [],
   "source": [
    "import numpy as np\n",
    "import pandas as pd\n",
    "\n",
    "from sklearn.tree import DecisionTreeClassifier\n",
    "from sklearn.model_selection import train_test_split,GridSearchCV\n",
    "from sklearn.metrics import roc_curve,auc\n",
    "\n",
    "import matplotlib.pyplot as plt\n",
    "\n",
    "import seaborn as sns\n",
    "sns.set()\n",
    "\n",
    "%matplotlib inline\n",
    "import warnings\n",
    "warnings.filterwarnings('ignore')"
   ]
  },
  {
   "cell_type": "code",
   "execution_count": 25,
   "metadata": {
    "collapsed": true
   },
   "outputs": [],
   "source": [
    "df=pd.read_csv('../data/haberman_csv.csv')"
   ]
  },
  {
   "cell_type": "code",
   "execution_count": 26,
   "metadata": {},
   "outputs": [
    {
     "data": {
      "text/plain": [
       "Index(['Age_of_patient_at_time_of_operation', 'Patients_year_of_operation',\n",
       "       'Number_of_positive_axillary_nodes_detected', 'Survival_status'],\n",
       "      dtype='object')"
      ]
     },
     "execution_count": 26,
     "metadata": {},
     "output_type": "execute_result"
    }
   ],
   "source": [
    "df.columns"
   ]
  },
  {
   "cell_type": "code",
   "execution_count": 27,
   "metadata": {
    "collapsed": true
   },
   "outputs": [],
   "source": [
    "df=df.drop(columns=['Patients_year_of_operation'])"
   ]
  },
  {
   "cell_type": "code",
   "execution_count": 28,
   "metadata": {},
   "outputs": [
    {
     "data": {
      "text/plain": [
       "(306, 3)"
      ]
     },
     "execution_count": 28,
     "metadata": {},
     "output_type": "execute_result"
    }
   ],
   "source": [
    "df.shape"
   ]
  },
  {
   "cell_type": "code",
   "execution_count": 29,
   "metadata": {
    "collapsed": true
   },
   "outputs": [],
   "source": [
    "df=df.rename(columns={'Age_of_patient_at_time_of_operation':'age', 'Number_of_positive_axillary_nodes_detected':'detections'})"
   ]
  },
  {
   "cell_type": "code",
   "execution_count": 30,
   "metadata": {
    "collapsed": true
   },
   "outputs": [],
   "source": [
    "data=df.values\n",
    "X=data[:,:2]\n",
    "Y=data[:,2]"
   ]
  },
  {
   "cell_type": "code",
   "execution_count": 31,
   "metadata": {
    "collapsed": true
   },
   "outputs": [],
   "source": [
    "X_train,x_test,Y_train,y_test=train_test_split(X,Y,test_size=0.3,random_state=9)"
   ]
  },
  {
   "cell_type": "code",
   "execution_count": 32,
   "metadata": {},
   "outputs": [
    {
     "name": "stdout",
     "output_type": "stream",
     "text": [
      "Fitting 10 folds for each of 8 candidates, totalling 80 fits\n"
     ]
    },
    {
     "name": "stderr",
     "output_type": "stream",
     "text": [
      "[Parallel(n_jobs=-1)]: Using backend LokyBackend with 4 concurrent workers.\n",
      "[Parallel(n_jobs=-1)]: Done  80 out of  80 | elapsed:    2.0s finished\n"
     ]
    },
    {
     "data": {
      "text/plain": [
       "GridSearchCV(cv=10, error_score='raise-deprecating',\n",
       "             estimator=DecisionTreeClassifier(class_weight=None,\n",
       "                                              criterion='gini', max_depth=None,\n",
       "                                              max_features=None,\n",
       "                                              max_leaf_nodes=None,\n",
       "                                              min_impurity_decrease=0.0,\n",
       "                                              min_impurity_split=None,\n",
       "                                              min_samples_leaf=1,\n",
       "                                              min_samples_split=2,\n",
       "                                              min_weight_fraction_leaf=0.0,\n",
       "                                              presort=False, random_state=9,\n",
       "                                              splitter='best'),\n",
       "             iid='warn', n_jobs=-1,\n",
       "             param_grid={'max_depth': [3, 4, 5, 6], 'max_features': [1, 2]},\n",
       "             pre_dispatch='2*n_jobs', refit=True, return_train_score=False,\n",
       "             scoring='accuracy', verbose=2)"
      ]
     },
     "execution_count": 32,
     "metadata": {},
     "output_type": "execute_result"
    }
   ],
   "source": [
    "tree=DecisionTreeClassifier(random_state=9)\n",
    "\n",
    "tree_params={'max_depth':[3,4,5,6],'max_features':[1,2]}\n",
    "\n",
    "tree_grid=GridSearchCV(tree,tree_params,scoring='accuracy',n_jobs=-1,cv=10,verbose=2)\n",
    "\n",
    "tree_grid.fit(X_train,Y_train)"
   ]
  },
  {
   "cell_type": "code",
   "execution_count": 33,
   "metadata": {
    "collapsed": true
   },
   "outputs": [],
   "source": [
    "import pydotplus\n",
    "from sklearn.tree import export_graphviz\n",
    "\n",
    "def draw_tree(tree,features,location):\n",
    "    tree_string=export_graphviz(tree,feature_names=features,filled=True,out_file=None)\n",
    "    graph=pydotplus.graph_from_dot_data(tree_string)\n",
    "    graph.write_png(location)"
   ]
  },
  {
   "cell_type": "code",
   "execution_count": 34,
   "metadata": {
    "collapsed": true
   },
   "outputs": [],
   "source": [
    "draw_tree(tree_grid.best_estimator_,['age', 'detections'],\\\n",
    "          location='../imgs/tree_grid1.png')"
   ]
  },
  {
   "cell_type": "markdown",
   "metadata": {
    "collapsed": true
   },
   "source": [
    "<img src='../imgs/tree_grid1.png'>"
   ]
  },
  {
   "cell_type": "code",
   "execution_count": 35,
   "metadata": {},
   "outputs": [],
   "source": [
    "from sklearn.tree.export import export_text"
   ]
  },
  {
   "cell_type": "code",
   "execution_count": 38,
   "metadata": {},
   "outputs": [],
   "source": [
    "rules=export_text(tree_grid.best_estimator_,feature_names=['age', 'detections'])"
   ]
  },
  {
   "cell_type": "code",
   "execution_count": 39,
   "metadata": {},
   "outputs": [
    {
     "name": "stdout",
     "output_type": "stream",
     "text": [
      "|--- detections <= 4.50\n",
      "|   |--- age <= 69.50\n",
      "|   |   |--- age <= 42.50\n",
      "|   |   |   |--- detections <= 0.50\n",
      "|   |   |   |   |--- age <= 35.50\n",
      "|   |   |   |   |   |--- age <= 33.50\n",
      "|   |   |   |   |   |   |--- class: 1\n",
      "|   |   |   |   |   |--- age >  33.50\n",
      "|   |   |   |   |   |   |--- class: 2\n",
      "|   |   |   |   |--- age >  35.50\n",
      "|   |   |   |   |   |--- age <= 38.50\n",
      "|   |   |   |   |   |   |--- class: 1\n",
      "|   |   |   |   |   |--- age >  38.50\n",
      "|   |   |   |   |   |   |--- class: 1\n",
      "|   |   |   |--- detections >  0.50\n",
      "|   |   |   |   |--- class: 1\n",
      "|   |   |--- age >  42.50\n",
      "|   |   |   |--- age <= 43.50\n",
      "|   |   |   |   |--- detections <= 1.00\n",
      "|   |   |   |   |   |--- class: 2\n",
      "|   |   |   |   |--- detections >  1.00\n",
      "|   |   |   |   |   |--- detections <= 2.50\n",
      "|   |   |   |   |   |   |--- class: 1\n",
      "|   |   |   |   |   |--- detections >  2.50\n",
      "|   |   |   |   |   |   |--- class: 1\n",
      "|   |   |   |--- age >  43.50\n",
      "|   |   |   |   |--- detections <= 0.50\n",
      "|   |   |   |   |   |--- age <= 50.50\n",
      "|   |   |   |   |   |   |--- class: 1\n",
      "|   |   |   |   |   |--- age >  50.50\n",
      "|   |   |   |   |   |   |--- class: 1\n",
      "|   |   |   |   |--- detections >  0.50\n",
      "|   |   |   |   |   |--- age <= 61.00\n",
      "|   |   |   |   |   |   |--- class: 1\n",
      "|   |   |   |   |   |--- age >  61.00\n",
      "|   |   |   |   |   |   |--- class: 2\n",
      "|   |--- age >  69.50\n",
      "|   |   |--- age <= 70.50\n",
      "|   |   |   |--- class: 2\n",
      "|   |   |--- age >  70.50\n",
      "|   |   |   |--- age <= 77.00\n",
      "|   |   |   |   |--- detections <= 2.50\n",
      "|   |   |   |   |   |--- age <= 72.50\n",
      "|   |   |   |   |   |   |--- class: 1\n",
      "|   |   |   |   |   |--- age >  72.50\n",
      "|   |   |   |   |   |   |--- class: 1\n",
      "|   |   |   |   |--- detections >  2.50\n",
      "|   |   |   |   |   |--- age <= 73.00\n",
      "|   |   |   |   |   |   |--- class: 1\n",
      "|   |   |   |   |   |--- age >  73.00\n",
      "|   |   |   |   |   |   |--- class: 2\n",
      "|   |   |   |--- age >  77.00\n",
      "|   |   |   |   |--- class: 2\n",
      "|--- detections >  4.50\n",
      "|   |--- age <= 43.50\n",
      "|   |   |--- detections <= 20.50\n",
      "|   |   |   |--- age <= 34.50\n",
      "|   |   |   |   |--- detections <= 8.00\n",
      "|   |   |   |   |   |--- class: 1\n",
      "|   |   |   |   |--- detections >  8.00\n",
      "|   |   |   |   |   |--- detections <= 9.50\n",
      "|   |   |   |   |   |   |--- class: 2\n",
      "|   |   |   |   |   |--- detections >  9.50\n",
      "|   |   |   |   |   |   |--- class: 1\n",
      "|   |   |   |--- age >  34.50\n",
      "|   |   |   |   |--- class: 1\n",
      "|   |   |--- detections >  20.50\n",
      "|   |   |   |--- age <= 36.00\n",
      "|   |   |   |   |--- class: 1\n",
      "|   |   |   |--- age >  36.00\n",
      "|   |   |   |   |--- class: 2\n",
      "|   |--- age >  43.50\n",
      "|   |   |--- detections <= 24.50\n",
      "|   |   |   |--- detections <= 19.50\n",
      "|   |   |   |   |--- detections <= 5.50\n",
      "|   |   |   |   |   |--- class: 2\n",
      "|   |   |   |   |--- detections >  5.50\n",
      "|   |   |   |   |   |--- detections <= 7.50\n",
      "|   |   |   |   |   |   |--- class: 1\n",
      "|   |   |   |   |   |--- detections >  7.50\n",
      "|   |   |   |   |   |   |--- class: 2\n",
      "|   |   |   |--- detections >  19.50\n",
      "|   |   |   |   |--- class: 2\n",
      "|   |   |--- detections >  24.50\n",
      "|   |   |   |--- class: 1\n",
      "\n"
     ]
    }
   ],
   "source": [
    "print(rules)"
   ]
  },
  {
   "cell_type": "code",
   "execution_count": 40,
   "metadata": {
    "collapsed": true
   },
   "outputs": [],
   "source": [
    "from collections import Counter"
   ]
  },
  {
   "cell_type": "code",
   "execution_count": 41,
   "metadata": {
    "collapsed": true
   },
   "outputs": [],
   "source": [
    "leaves_index=tree_grid.best_estimator_.apply(X_train)"
   ]
  },
  {
   "cell_type": "code",
   "execution_count": 42,
   "metadata": {
    "collapsed": true
   },
   "outputs": [],
   "source": [
    "cnt=Counter(leaves_index)"
   ]
  },
  {
   "cell_type": "code",
   "execution_count": 43,
   "metadata": {
    "collapsed": true
   },
   "outputs": [],
   "source": [
    "elements=[cnt[x] for x in leaves_index]"
   ]
  },
  {
   "cell_type": "code",
   "execution_count": 44,
   "metadata": {
    "collapsed": true
   },
   "outputs": [
    {
     "data": {
      "text/plain": [
       "[1,\n",
       " 11,\n",
       " 40,\n",
       " 2,\n",
       " 5,\n",
       " 12,\n",
       " 49,\n",
       " 40,\n",
       " 5,\n",
       " 49,\n",
       " 49,\n",
       " 12,\n",
       " 7,\n",
       " 49,\n",
       " 40,\n",
       " 49,\n",
       " 3,\n",
       " 11,\n",
       " 5,\n",
       " 1,\n",
       " 40,\n",
       " 49,\n",
       " 2,\n",
       " 1,\n",
       " 3,\n",
       " 24,\n",
       " 49,\n",
       " 49,\n",
       " 24,\n",
       " 40,\n",
       " 40,\n",
       " 3,\n",
       " 17,\n",
       " 24,\n",
       " 17,\n",
       " 24,\n",
       " 40,\n",
       " 4,\n",
       " 49,\n",
       " 4,\n",
       " 40,\n",
       " 49,\n",
       " 49,\n",
       " 49,\n",
       " 17,\n",
       " 24,\n",
       " 24,\n",
       " 12,\n",
       " 11,\n",
       " 7,\n",
       " 24,\n",
       " 24,\n",
       " 3,\n",
       " 12,\n",
       " 17,\n",
       " 49,\n",
       " 24,\n",
       " 1,\n",
       " 40,\n",
       " 7,\n",
       " 49,\n",
       " 49,\n",
       " 3,\n",
       " 3,\n",
       " 40,\n",
       " 1,\n",
       " 24,\n",
       " 7,\n",
       " 11,\n",
       " 49,\n",
       " 40,\n",
       " 1,\n",
       " 40,\n",
       " 49,\n",
       " 4,\n",
       " 5,\n",
       " 40,\n",
       " 40,\n",
       " 2,\n",
       " 24,\n",
       " 24,\n",
       " 17,\n",
       " 49,\n",
       " 17,\n",
       " 2,\n",
       " 40,\n",
       " 24,\n",
       " 49,\n",
       " 49,\n",
       " 49,\n",
       " 11,\n",
       " 40,\n",
       " 7,\n",
       " 49,\n",
       " 12,\n",
       " 49,\n",
       " 40,\n",
       " 49,\n",
       " 49,\n",
       " 49,\n",
       " 3,\n",
       " 49,\n",
       " 24,\n",
       " 12,\n",
       " 49,\n",
       " 12,\n",
       " 4,\n",
       " 5,\n",
       " 5,\n",
       " 11,\n",
       " 40,\n",
       " 7,\n",
       " 11,\n",
       " 3,\n",
       " 40,\n",
       " 17,\n",
       " 40,\n",
       " 24,\n",
       " 24,\n",
       " 24,\n",
       " 4,\n",
       " 49,\n",
       " 2,\n",
       " 24,\n",
       " 17,\n",
       " 17,\n",
       " 5,\n",
       " 17,\n",
       " 49,\n",
       " 2,\n",
       " 5,\n",
       " 40,\n",
       " 40,\n",
       " 4,\n",
       " 3,\n",
       " 40,\n",
       " 49,\n",
       " 49,\n",
       " 7,\n",
       " 17,\n",
       " 1,\n",
       " 49,\n",
       " 49,\n",
       " 49,\n",
       " 11,\n",
       " 49,\n",
       " 40,\n",
       " 7,\n",
       " 49,\n",
       " 7,\n",
       " 7,\n",
       " 3,\n",
       " 40,\n",
       " 24,\n",
       " 12,\n",
       " 17,\n",
       " 40,\n",
       " 40,\n",
       " 40,\n",
       " 49,\n",
       " 11,\n",
       " 49,\n",
       " 24,\n",
       " 40,\n",
       " 17,\n",
       " 49,\n",
       " 49,\n",
       " 24,\n",
       " 40,\n",
       " 12,\n",
       " 12,\n",
       " 2,\n",
       " 24,\n",
       " 49,\n",
       " 40,\n",
       " 17,\n",
       " 49,\n",
       " 11,\n",
       " 5,\n",
       " 4,\n",
       " 3,\n",
       " 40,\n",
       " 4,\n",
       " 49,\n",
       " 12,\n",
       " 40,\n",
       " 11,\n",
       " 49,\n",
       " 40,\n",
       " 40,\n",
       " 49,\n",
       " 3,\n",
       " 40,\n",
       " 40,\n",
       " 40,\n",
       " 5,\n",
       " 1,\n",
       " 40,\n",
       " 49,\n",
       " 40,\n",
       " 24,\n",
       " 7,\n",
       " 17,\n",
       " 49,\n",
       " 7,\n",
       " 49,\n",
       " 1,\n",
       " 7,\n",
       " 7,\n",
       " 2,\n",
       " 17,\n",
       " 24,\n",
       " 12,\n",
       " 17]"
      ]
     },
     "execution_count": 44,
     "metadata": {},
     "output_type": "execute_result"
    }
   ],
   "source": [
    "elements"
   ]
  },
  {
   "cell_type": "code",
   "execution_count": 45,
   "metadata": {},
   "outputs": [
    {
     "data": {
      "text/plain": [
       "214"
      ]
     },
     "execution_count": 45,
     "metadata": {},
     "output_type": "execute_result"
    }
   ],
   "source": [
    "len(elements)"
   ]
  },
  {
   "cell_type": "code",
   "execution_count": 12,
   "metadata": {
    "scrolled": true
   },
   "outputs": [
    {
     "data": {
      "text/plain": [
       "DecisionTreeClassifier(class_weight=None, criterion='gini', max_depth=6,\n",
       "                       max_features=2, max_leaf_nodes=None,\n",
       "                       min_impurity_decrease=0.0, min_impurity_split=None,\n",
       "                       min_samples_leaf=1, min_samples_split=2,\n",
       "                       min_weight_fraction_leaf=0.0, presort=False,\n",
       "                       random_state=9, splitter='best')"
      ]
     },
     "execution_count": 12,
     "metadata": {},
     "output_type": "execute_result"
    }
   ],
   "source": [
    "tree_grid.best_estimator_"
   ]
  },
  {
   "cell_type": "code",
   "execution_count": 13,
   "metadata": {
    "scrolled": true
   },
   "outputs": [
    {
     "name": "stdout",
     "output_type": "stream",
     "text": [
      "Fitting 10 folds for each of 4 candidates, totalling 40 fits\n"
     ]
    },
    {
     "name": "stderr",
     "output_type": "stream",
     "text": [
      "[Parallel(n_jobs=-1)]: Using backend LokyBackend with 4 concurrent workers.\n",
      "[Parallel(n_jobs=-1)]: Done  12 out of  40 | elapsed:    0.0s remaining:    0.1s\n",
      "[Parallel(n_jobs=-1)]: Done  40 out of  40 | elapsed:    0.1s finished\n"
     ]
    },
    {
     "data": {
      "text/plain": [
       "GridSearchCV(cv=10, error_score='raise-deprecating',\n",
       "             estimator=DecisionTreeClassifier(class_weight=None,\n",
       "                                              criterion='gini', max_depth=None,\n",
       "                                              max_features=None,\n",
       "                                              max_leaf_nodes=None,\n",
       "                                              min_impurity_decrease=0.0,\n",
       "                                              min_impurity_split=None,\n",
       "                                              min_samples_leaf=1,\n",
       "                                              min_samples_split=2,\n",
       "                                              min_weight_fraction_leaf=0.0,\n",
       "                                              presort=False, random_state=9,\n",
       "                                              splitter='best'),\n",
       "             iid='warn', n_jobs=-1,\n",
       "             param_grid={'max_depth': [2, 3], 'max_features': [1, 2]},\n",
       "             pre_dispatch='2*n_jobs', refit=True, return_train_score=False,\n",
       "             scoring='accuracy', verbose=2)"
      ]
     },
     "execution_count": 13,
     "metadata": {},
     "output_type": "execute_result"
    }
   ],
   "source": [
    "tree2=DecisionTreeClassifier(random_state=9)\n",
    "tree_params2={'max_depth':[2,3],'max_features':[1,2]}\n",
    "\n",
    "tree_grid2=GridSearchCV(tree2,tree_params2,scoring='accuracy',n_jobs=-1,cv=10,verbose=2)\n",
    "\n",
    "tree_grid2.fit(X_train,Y_train)"
   ]
  },
  {
   "cell_type": "code",
   "execution_count": 14,
   "metadata": {
    "collapsed": true
   },
   "outputs": [],
   "source": [
    "draw_tree(tree_grid2.best_estimator_,['age', 'detections'],\\\n",
    "          location='../imgs/tree_grid_2.png')"
   ]
  },
  {
   "cell_type": "markdown",
   "metadata": {},
   "source": [
    "<img src='../imgs/tree_grid_2.png'>"
   ]
  },
  {
   "cell_type": "markdown",
   "metadata": {},
   "source": [
    "<img src='../imgs/tree_grid1.png'>"
   ]
  },
  {
   "cell_type": "code",
   "execution_count": 18,
   "metadata": {
    "collapsed": true
   },
   "outputs": [],
   "source": [
    "from sklearn.tree import plot_tree"
   ]
  },
  {
   "cell_type": "code",
   "execution_count": 23,
   "metadata": {
    "collapsed": true
   },
   "outputs": [
    {
     "data": {
      "text/plain": [
       "[Text(219.393,213.051,'X[1] <= 4.5\\nentropy = 0.391\\nsamples = 214\\nvalue = [157, 57]'),\n",
       " Text(138.509,180.274,'X[0] <= 69.5\\nentropy = 0.305\\nsamples = 160\\nvalue = [130, 30]'),\n",
       " Text(74.0122,147.497,'X[0] <= 42.5\\nentropy = 0.281\\nsamples = 148\\nvalue = [123, 25]'),\n",
       " Text(42.2927,114.72,'X[1] <= 0.5\\nentropy = 0.175\\nsamples = 31\\nvalue = [28, 3]'),\n",
       " Text(33.8341,81.9429,'X[0] <= 35.5\\nentropy = 0.266\\nsamples = 19\\nvalue = [16, 3]'),\n",
       " Text(16.9171,49.1657,'X[0] <= 33.5\\nentropy = 0.444\\nsamples = 3\\nvalue = [2, 1]'),\n",
       " Text(8.45854,16.3886,'entropy = 0.0\\nsamples = 2\\nvalue = [2, 0]'),\n",
       " Text(25.3756,16.3886,'entropy = 0.0\\nsamples = 1\\nvalue = [0, 1]'),\n",
       " Text(50.7512,49.1657,'X[0] <= 38.5\\nentropy = 0.219\\nsamples = 16\\nvalue = [14, 2]'),\n",
       " Text(42.2927,16.3886,'entropy = 0.0\\nsamples = 5\\nvalue = [5, 0]'),\n",
       " Text(59.2098,16.3886,'entropy = 0.298\\nsamples = 11\\nvalue = [9, 2]'),\n",
       " Text(50.7512,81.9429,'entropy = 0.0\\nsamples = 12\\nvalue = [12, 0]'),\n",
       " Text(105.732,114.72,'X[0] <= 43.5\\nentropy = 0.305\\nsamples = 117\\nvalue = [95, 22]'),\n",
       " Text(76.1268,81.9429,'X[1] <= 1.0\\nentropy = 0.5\\nsamples = 6\\nvalue = [3, 3]'),\n",
       " Text(67.6683,49.1657,'entropy = 0.0\\nsamples = 2\\nvalue = [0, 2]'),\n",
       " Text(84.5854,49.1657,'X[1] <= 2.5\\nentropy = 0.375\\nsamples = 4\\nvalue = [3, 1]'),\n",
       " Text(76.1268,16.3886,'entropy = 0.444\\nsamples = 3\\nvalue = [2, 1]'),\n",
       " Text(93.0439,16.3886,'entropy = 0.0\\nsamples = 1\\nvalue = [1, 0]'),\n",
       " Text(135.337,81.9429,'X[1] <= 0.5\\nentropy = 0.284\\nsamples = 111\\nvalue = [92, 19]'),\n",
       " Text(118.42,49.1657,'X[0] <= 50.5\\nentropy = 0.213\\nsamples = 66\\nvalue = [58, 8]'),\n",
       " Text(109.961,16.3886,'entropy = 0.36\\nsamples = 17\\nvalue = [13, 4]'),\n",
       " Text(126.878,16.3886,'entropy = 0.15\\nsamples = 49\\nvalue = [45, 4]'),\n",
       " Text(152.254,49.1657,'X[0] <= 61.0\\nentropy = 0.369\\nsamples = 45\\nvalue = [34, 11]'),\n",
       " Text(143.795,16.3886,'entropy = 0.32\\nsamples = 40\\nvalue = [32, 8]'),\n",
       " Text(160.712,16.3886,'entropy = 0.48\\nsamples = 5\\nvalue = [2, 3]'),\n",
       " Text(203.005,147.497,'X[0] <= 70.5\\nentropy = 0.486\\nsamples = 12\\nvalue = [7, 5]'),\n",
       " Text(194.546,114.72,'entropy = 0.0\\nsamples = 2\\nvalue = [0, 2]'),\n",
       " Text(211.463,114.72,'X[0] <= 77.0\\nentropy = 0.42\\nsamples = 10\\nvalue = [7, 3]'),\n",
       " Text(203.005,81.9429,'X[1] <= 2.5\\nentropy = 0.346\\nsamples = 9\\nvalue = [7, 2]'),\n",
       " Text(186.088,49.1657,'X[0] <= 72.5\\nentropy = 0.245\\nsamples = 7\\nvalue = [6, 1]'),\n",
       " Text(177.629,16.3886,'entropy = 0.375\\nsamples = 4\\nvalue = [3, 1]'),\n",
       " Text(194.546,16.3886,'entropy = 0.0\\nsamples = 3\\nvalue = [3, 0]'),\n",
       " Text(219.922,49.1657,'X[0] <= 73.0\\nentropy = 0.5\\nsamples = 2\\nvalue = [1, 1]'),\n",
       " Text(211.463,16.3886,'entropy = 0.0\\nsamples = 1\\nvalue = [1, 0]'),\n",
       " Text(228.38,16.3886,'entropy = 0.0\\nsamples = 1\\nvalue = [0, 1]'),\n",
       " Text(219.922,81.9429,'entropy = 0.0\\nsamples = 1\\nvalue = [0, 1]'),\n",
       " Text(300.278,180.274,'X[0] <= 43.5\\nentropy = 0.5\\nsamples = 54\\nvalue = [27, 27]'),\n",
       " Text(270.673,147.497,'X[1] <= 20.5\\nentropy = 0.355\\nsamples = 13\\nvalue = [10, 3]'),\n",
       " Text(253.756,114.72,'X[0] <= 34.5\\nentropy = 0.18\\nsamples = 10\\nvalue = [9, 1]'),\n",
       " Text(245.298,81.9429,'X[1] <= 8.0\\nentropy = 0.444\\nsamples = 3\\nvalue = [2, 1]'),\n",
       " Text(236.839,49.1657,'entropy = 0.0\\nsamples = 1\\nvalue = [1, 0]'),\n",
       " Text(253.756,49.1657,'X[1] <= 9.5\\nentropy = 0.5\\nsamples = 2\\nvalue = [1, 1]'),\n",
       " Text(245.298,16.3886,'entropy = 0.0\\nsamples = 1\\nvalue = [0, 1]'),\n",
       " Text(262.215,16.3886,'entropy = 0.0\\nsamples = 1\\nvalue = [1, 0]'),\n",
       " Text(262.215,81.9429,'entropy = 0.0\\nsamples = 7\\nvalue = [7, 0]'),\n",
       " Text(287.59,114.72,'X[0] <= 36.0\\nentropy = 0.444\\nsamples = 3\\nvalue = [1, 2]'),\n",
       " Text(279.132,81.9429,'entropy = 0.0\\nsamples = 1\\nvalue = [1, 0]'),\n",
       " Text(296.049,81.9429,'entropy = 0.0\\nsamples = 2\\nvalue = [0, 2]'),\n",
       " Text(329.883,147.497,'X[1] <= 24.5\\nentropy = 0.485\\nsamples = 41\\nvalue = [17, 24]'),\n",
       " Text(321.424,114.72,'X[1] <= 19.5\\nentropy = 0.465\\nsamples = 38\\nvalue = [14, 24]'),\n",
       " Text(312.966,81.9429,'X[1] <= 5.5\\nentropy = 0.484\\nsamples = 34\\nvalue = [14, 20]'),\n",
       " Text(304.507,49.1657,'entropy = 0.0\\nsamples = 3\\nvalue = [0, 3]'),\n",
       " Text(321.424,49.1657,'X[1] <= 7.5\\nentropy = 0.495\\nsamples = 31\\nvalue = [14, 17]'),\n",
       " Text(312.966,16.3886,'entropy = 0.408\\nsamples = 7\\nvalue = [5, 2]'),\n",
       " Text(329.883,16.3886,'entropy = 0.469\\nsamples = 24\\nvalue = [9, 15]'),\n",
       " Text(329.883,81.9429,'entropy = 0.0\\nsamples = 4\\nvalue = [0, 4]'),\n",
       " Text(338.341,114.72,'entropy = 0.0\\nsamples = 3\\nvalue = [3, 0]')]"
      ]
     },
     "execution_count": 23,
     "metadata": {},
     "output_type": "execute_result"
    },
    {
     "data": {
      "image/png": "[encoded data removed]",
      "text/plain": [
       "<matplotlib.figure.Figure at 0x11b0aaf908>"
      ]
     },
     "metadata": {},
     "output_type": "display_data"
    }
   ],
   "source": [
    "clf=tree_grid.best_estimator_.fit(X_train,Y_train)\n",
    "plot_tree(clf)"
   ]
  },
  {
   "cell_type": "code",
   "execution_count": null,
   "metadata": {
    "collapsed": true
   },
   "outputs": [],
   "source": []
  }
 ],
 "metadata": {
  "kernelspec": {
   "display_name": "Python 3",
   "language": "python",
   "name": "python3"
  },
  "language_info": {
   "codemirror_mode": {
    "name": "ipython",
    "version": 3
   },
   "file_extension": ".py",
   "mimetype": "text/x-python",
   "name": "python",
   "nbconvert_exporter": "python",
   "pygments_lexer": "ipython3",
   "version": "3.6.6"
  }
 },
 "nbformat": 4,
 "nbformat_minor": 2
}
